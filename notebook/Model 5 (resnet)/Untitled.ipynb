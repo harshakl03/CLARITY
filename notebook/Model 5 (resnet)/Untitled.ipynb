{
 "cells": [
  {
   "cell_type": "code",
   "execution_count": 1,
   "id": "acd3445d-a0ec-4d40-a84c-903b2c3a1dd6",
   "metadata": {},
   "outputs": [],
   "source": [
    "BASE_DIR = r\"D:\\Projects\\CLARITY\\Model\\Dataset\\archive\"   # root containing image_*/images/*.png\n",
    "CSV_PATH = r\"D:\\Projects\\CLARITY\\Model\\Dataset\\archive\\Data_Entry_2017.csv\"\n",
    "OUTPUT_DIR = r\"./outputs_resnet\"\n",
    "import os\n",
    "os.makedirs(OUTPUT_DIR, exist_ok=True)"
   ]
  },
  {
   "cell_type": "code",
   "execution_count": 2,
   "id": "17e75c1a-f7cf-45fe-a444-5363dcb91d75",
   "metadata": {},
   "outputs": [],
   "source": [
    "import os, time, json, random, math\n",
    "from pathlib import Path\n",
    "import numpy as np\n",
    "import pandas as pd\n",
    "import matplotlib.pyplot as plt\n",
    "import seaborn as sns\n",
    "from PIL import Image\n",
    "from tqdm import tqdm\n",
    "\n",
    "# PyTorch & torchvision\n",
    "import torch\n",
    "import torch.nn as nn\n",
    "import torch.nn.functional as F\n",
    "from torch.utils.data import Dataset, DataLoader, WeightedRandomSampler\n",
    "import torchvision.transforms as T\n",
    "from torchvision import models\n",
    "\n",
    "# sklearn\n",
    "from sklearn.model_selection import train_test_split\n",
    "from sklearn.preprocessing import MultiLabelBinarizer\n",
    "from sklearn.metrics import (f1_score, precision_score, recall_score, roc_auc_score,\n",
    "                             roc_curve, auc, classification_report, multilabel_confusion_matrix,\n",
    "                             precision_recall_curve)\n",
    "\n",
    "\n",
    "from pytorch_grad_cam import GradCAM\n",
    "from pytorch_grad_cam.utils.image import show_cam_on_image\n",
    "\n",
    "from ipywidgets import VBox, HBox, Label, FloatProgress, HTML\n",
    "from IPython.display import display, clear_output"
   ]
  },
  {
   "cell_type": "code",
   "execution_count": 3,
   "id": "0251b3c5-844a-4182-9be2-ab1257ad954a",
   "metadata": {},
   "outputs": [
    {
     "name": "stdout",
     "output_type": "stream",
     "text": [
      "Device: cuda\n"
     ]
    }
   ],
   "source": [
    "SEED = 42\n",
    "random.seed(SEED); np.random.seed(SEED); torch.manual_seed(SEED)\n",
    "DEVICE = torch.device(\"cuda\" if torch.cuda.is_available() else \"mps\" if torch.backends.mps.is_available() else \"cpu\")\n",
    "print(\"Device:\", DEVICE)"
   ]
  },
  {
   "cell_type": "code",
   "execution_count": 4,
   "id": "c5c8769e-4d0d-4933-9b9f-dca5cb9682bd",
   "metadata": {},
   "outputs": [],
   "source": [
    "class FocalLoss(nn.Module):\n",
    "    \"\"\"Multi-label focal loss (binary focal on each label).\"\"\"\n",
    "    def __init__(self, alpha=1.0, gamma=2.0, reduction='mean', logits=True):\n",
    "        super().__init__()\n",
    "        self.alpha = alpha\n",
    "        self.gamma = gamma\n",
    "        self.reduction = reduction\n",
    "        self.logits = logits\n",
    "    def forward(self, inputs, targets):\n",
    "        if self.logits:\n",
    "            bce = F.binary_cross_entropy_with_logits(inputs, targets, reduction='none')\n",
    "        else:\n",
    "            bce = F.binary_cross_entropy(inputs, targets, reduction='none')\n",
    "        pt = torch.exp(-bce)\n",
    "        loss = self.alpha * (1-pt)**self.gamma * bce\n",
    "        if self.reduction == 'mean':\n",
    "            return loss.mean()\n",
    "        elif self.reduction == 'sum':\n",
    "            return loss.sum()\n",
    "        return loss\n",
    "\n",
    "def save_history(history, path):\n",
    "    with open(path, 'w') as f:\n",
    "        json.dump(history, f, indent=2)"
   ]
  },
  {
   "cell_type": "code",
   "execution_count": 5,
   "id": "4cbbfb18-9a34-43e6-95e8-64aa09ecc9ec",
   "metadata": {},
   "outputs": [
    {
     "name": "stdout",
     "output_type": "stream",
     "text": [
      "Total CSV rows: 112120\n"
     ]
    },
    {
     "data": {
      "text/html": [
       "<div>\n",
       "<style scoped>\n",
       "    .dataframe tbody tr th:only-of-type {\n",
       "        vertical-align: middle;\n",
       "    }\n",
       "\n",
       "    .dataframe tbody tr th {\n",
       "        vertical-align: top;\n",
       "    }\n",
       "\n",
       "    .dataframe thead th {\n",
       "        text-align: right;\n",
       "    }\n",
       "</style>\n",
       "<table border=\"1\" class=\"dataframe\">\n",
       "  <thead>\n",
       "    <tr style=\"text-align: right;\">\n",
       "      <th></th>\n",
       "      <th>Image Index</th>\n",
       "      <th>Finding Labels</th>\n",
       "      <th>Follow-up #</th>\n",
       "      <th>Patient ID</th>\n",
       "      <th>Patient Age</th>\n",
       "      <th>Patient Gender</th>\n",
       "      <th>View Position</th>\n",
       "      <th>OriginalImage[Width</th>\n",
       "      <th>Height]</th>\n",
       "      <th>OriginalImagePixelSpacing[x</th>\n",
       "      <th>y]</th>\n",
       "      <th>Unnamed: 11</th>\n",
       "    </tr>\n",
       "  </thead>\n",
       "  <tbody>\n",
       "    <tr>\n",
       "      <th>0</th>\n",
       "      <td>00000001_000.png</td>\n",
       "      <td>Cardiomegaly</td>\n",
       "      <td>0</td>\n",
       "      <td>1</td>\n",
       "      <td>58</td>\n",
       "      <td>M</td>\n",
       "      <td>PA</td>\n",
       "      <td>2682</td>\n",
       "      <td>2749</td>\n",
       "      <td>0.143</td>\n",
       "      <td>0.143</td>\n",
       "      <td>NaN</td>\n",
       "    </tr>\n",
       "    <tr>\n",
       "      <th>1</th>\n",
       "      <td>00000001_001.png</td>\n",
       "      <td>Cardiomegaly|Emphysema</td>\n",
       "      <td>1</td>\n",
       "      <td>1</td>\n",
       "      <td>58</td>\n",
       "      <td>M</td>\n",
       "      <td>PA</td>\n",
       "      <td>2894</td>\n",
       "      <td>2729</td>\n",
       "      <td>0.143</td>\n",
       "      <td>0.143</td>\n",
       "      <td>NaN</td>\n",
       "    </tr>\n",
       "    <tr>\n",
       "      <th>2</th>\n",
       "      <td>00000001_002.png</td>\n",
       "      <td>Cardiomegaly|Effusion</td>\n",
       "      <td>2</td>\n",
       "      <td>1</td>\n",
       "      <td>58</td>\n",
       "      <td>M</td>\n",
       "      <td>PA</td>\n",
       "      <td>2500</td>\n",
       "      <td>2048</td>\n",
       "      <td>0.168</td>\n",
       "      <td>0.168</td>\n",
       "      <td>NaN</td>\n",
       "    </tr>\n",
       "    <tr>\n",
       "      <th>3</th>\n",
       "      <td>00000002_000.png</td>\n",
       "      <td>No Finding</td>\n",
       "      <td>0</td>\n",
       "      <td>2</td>\n",
       "      <td>81</td>\n",
       "      <td>M</td>\n",
       "      <td>PA</td>\n",
       "      <td>2500</td>\n",
       "      <td>2048</td>\n",
       "      <td>0.171</td>\n",
       "      <td>0.171</td>\n",
       "      <td>NaN</td>\n",
       "    </tr>\n",
       "    <tr>\n",
       "      <th>4</th>\n",
       "      <td>00000003_000.png</td>\n",
       "      <td>Hernia</td>\n",
       "      <td>0</td>\n",
       "      <td>3</td>\n",
       "      <td>81</td>\n",
       "      <td>F</td>\n",
       "      <td>PA</td>\n",
       "      <td>2582</td>\n",
       "      <td>2991</td>\n",
       "      <td>0.143</td>\n",
       "      <td>0.143</td>\n",
       "      <td>NaN</td>\n",
       "    </tr>\n",
       "  </tbody>\n",
       "</table>\n",
       "</div>"
      ],
      "text/plain": [
       "        Image Index          Finding Labels  Follow-up #  Patient ID  \\\n",
       "0  00000001_000.png            Cardiomegaly            0           1   \n",
       "1  00000001_001.png  Cardiomegaly|Emphysema            1           1   \n",
       "2  00000001_002.png   Cardiomegaly|Effusion            2           1   \n",
       "3  00000002_000.png              No Finding            0           2   \n",
       "4  00000003_000.png                  Hernia            0           3   \n",
       "\n",
       "   Patient Age Patient Gender View Position  OriginalImage[Width  Height]  \\\n",
       "0           58              M            PA                 2682     2749   \n",
       "1           58              M            PA                 2894     2729   \n",
       "2           58              M            PA                 2500     2048   \n",
       "3           81              M            PA                 2500     2048   \n",
       "4           81              F            PA                 2582     2991   \n",
       "\n",
       "   OriginalImagePixelSpacing[x     y]  Unnamed: 11  \n",
       "0                        0.143  0.143          NaN  \n",
       "1                        0.143  0.143          NaN  \n",
       "2                        0.168  0.168          NaN  \n",
       "3                        0.171  0.171          NaN  \n",
       "4                        0.143  0.143          NaN  "
      ]
     },
     "metadata": {},
     "output_type": "display_data"
    },
    {
     "name": "stdout",
     "output_type": "stream",
     "text": [
      "Detected classes: 15\n",
      "['Atelectasis', 'Cardiomegaly', 'Consolidation', 'Edema', 'Effusion', 'Emphysema', 'Fibrosis', 'Hernia', 'Infiltration', 'Mass', 'No Finding', 'Nodule', 'Pleural_Thickening', 'Pneumonia', 'Pneumothorax']\n"
     ]
    },
    {
     "data": {
      "image/png": "[encoded data removed]",
      "text/plain": [
       "<Figure size 1200x400 with 1 Axes>"
      ]
     },
     "metadata": {},
     "output_type": "display_data"
    },
    {
     "data": {
      "image/png": "[encoded data removed]",
      "text/plain": [
       "<Figure size 600x300 with 1 Axes>"
      ]
     },
     "metadata": {},
     "output_type": "display_data"
    },
    {
     "data": {
      "image/png": "[encoded data removed]",
      "text/plain": [
       "<Figure size 400x300 with 1 Axes>"
      ]
     },
     "metadata": {},
     "output_type": "display_data"
    }
   ],
   "source": [
    "df = pd.read_csv(CSV_PATH)\n",
    "# normalize labels formatting (remove leading/trailing spaces around '|')\n",
    "df['Finding Labels'] = df['Finding Labels'].astype(str).apply(lambda x: '|'.join([s.strip() for s in x.split('|')]))\n",
    "print(\"Total CSV rows:\", len(df))\n",
    "display(df.head())\n",
    "\n",
    "# build class list\n",
    "all_labels = sorted({lab for row in df['Finding Labels'].astype(str) for lab in row.split('|')})\n",
    "print(\"Detected classes:\", len(all_labels))\n",
    "print(all_labels)\n",
    "\n",
    "# quick label frequency plot (multi-label)\n",
    "mlb_temp = MultiLabelBinarizer(classes=all_labels)\n",
    "y_all = mlb_temp.fit_transform(df['Finding Labels'].str.split('|'))\n",
    "label_counts = pd.Series(y_all.sum(axis=0), index=mlb_temp.classes_).sort_values(ascending=False)\n",
    "plt.figure(figsize=(12,4)); sns.barplot(x=label_counts.index, y=label_counts.values); plt.xticks(rotation=60); plt.title(\"Label frequencies\"); plt.tight_layout(); plt.savefig(Path(OUTPUT_DIR)/\"label_freq.png\", dpi=150); plt.show()\n",
    "\n",
    "# Age/gender if available\n",
    "if 'Patient Age' in df.columns:\n",
    "    plt.figure(figsize=(6,3)); sns.histplot(df['Patient Age'].dropna().astype(float), bins=40); plt.title('Age distribution'); plt.tight_layout(); plt.savefig(Path(OUTPUT_DIR)/\"age_dist.png\", dpi=150); plt.show()\n",
    "if 'Patient Gender' in df.columns:\n",
    "    plt.figure(figsize=(4,3)); sns.countplot(x='Patient Gender', data=df); plt.title('Gender'); plt.tight_layout(); plt.savefig(Path(OUTPUT_DIR)/\"gender_count.png\", dpi=150); plt.show()"
   ]
  },
  {
   "cell_type": "code",
   "execution_count": 6,
   "id": "8ea2f8f5-d5ca-4230-8655-01eb854e2294",
   "metadata": {},
   "outputs": [
    {
     "name": "stdout",
     "output_type": "stream",
     "text": [
      "Caching image paths...\n",
      "Cached images: 112120\n",
      "Missing entries (not found on disk): 0\n",
      "After filtering: 112120\n"
     ]
    }
   ],
   "source": [
    "print(\"Caching image paths...\")\n",
    "img_map = {}\n",
    "root = Path(BASE_DIR)\n",
    "for sub in root.iterdir():\n",
    "    if not sub.is_dir(): continue\n",
    "    images_dir = sub / \"images\"\n",
    "    if not images_dir.exists(): continue\n",
    "    for p in images_dir.iterdir():\n",
    "        if p.suffix.lower() in ('.png', '.jpg', '.jpeg'):\n",
    "            img_map[p.name] = str(p)\n",
    "print(\"Cached images:\", len(img_map))\n",
    "\n",
    "# keep only entries that exist\n",
    "df['exists'] = df['Image Index'].apply(lambda x: x in img_map)\n",
    "missing = (~df['exists']).sum()\n",
    "print(\"Missing entries (not found on disk):\", missing)\n",
    "df = df[df['exists']].reset_index(drop=True)\n",
    "print(\"After filtering:\", len(df))"
   ]
  },
  {
   "cell_type": "code",
   "execution_count": 7,
   "id": "a608e7af-3087-43f2-8120-06ac0e1cd782",
   "metadata": {},
   "outputs": [
    {
     "name": "stdout",
     "output_type": "stream",
     "text": [
      "Added binary label columns.\n"
     ]
    }
   ],
   "source": [
    "mlb = MultiLabelBinarizer(classes=all_labels)\n",
    "labels_bin = mlb.fit_transform(df['Finding Labels'].str.split('|'))\n",
    "for i, c in enumerate(mlb.classes_):\n",
    "    df[c] = labels_bin[:, i]\n",
    "print(\"Added binary label columns.\")"
   ]
  },
  {
   "cell_type": "code",
   "execution_count": 8,
   "id": "6f68fb4a-addc-4dfe-9e1e-ea2566eaeb83",
   "metadata": {},
   "outputs": [
    {
     "name": "stdout",
     "output_type": "stream",
     "text": [
      "Split sizes -> Train: 89826 Val: 10930 Test: 11364\n"
     ]
    }
   ],
   "source": [
    "if 'Patient ID' in df.columns:\n",
    "    patients = df['Patient ID'].unique()\n",
    "    # 80/10/10 split of patients\n",
    "    train_pats, tmp_pats = train_test_split(patients, test_size=0.2, random_state=SEED)\n",
    "    val_pats, test_pats = train_test_split(tmp_pats, test_size=0.5, random_state=SEED)\n",
    "    train_df = df[df['Patient ID'].isin(train_pats)].reset_index(drop=True)\n",
    "    val_df   = df[df['Patient ID'].isin(val_pats)].reset_index(drop=True)\n",
    "    test_df  = df[df['Patient ID'].isin(test_pats)].reset_index(drop=True)\n",
    "else:\n",
    "    # fallback: stratify by most frequent single label (not perfect but better than plain)\n",
    "    df['primary_label'] = df[mlb.classes_].idxmax(axis=1)\n",
    "    train_df, tmp_df = train_test_split(df, test_size=0.2, random_state=SEED, stratify=df['primary_label'])\n",
    "    val_df, test_df = train_test_split(tmp_df, test_size=0.5, random_state=SEED, stratify=tmp_df['primary_label'])\n",
    "    train_df = train_df.reset_index(drop=True); val_df = val_df.reset_index(drop=True); test_df = test_df.reset_index(drop=True)\n",
    "    df.drop(columns=['primary_label'], inplace=True)\n",
    "\n",
    "print(\"Split sizes -> Train:\", len(train_df), \"Val:\", len(val_df), \"Test:\", len(test_df))"
   ]
  },
  {
   "cell_type": "code",
   "execution_count": 9,
   "id": "300653c3-ba4a-4e9a-b7d5-7bc22a9b5daa",
   "metadata": {},
   "outputs": [],
   "source": [
    "IMG_SIZE = 224\n",
    "BATCH_SIZE = 16        # adjust depending on GPU memory\n",
    "NUM_WORKERS = 0        # set >0 on Linux for speed; 0 is safe on Windows/Mac\n",
    "PIN_MEMORY = True if DEVICE.type == 'cuda' else False\n",
    "\n",
    "train_transforms = T.Compose([\n",
    "    T.RandomResizedCrop(IMG_SIZE, scale=(0.8, 1.0)),\n",
    "    T.RandomHorizontalFlip(),\n",
    "    T.RandomApply([T.ColorJitter(brightness=0.12, contrast=0.12, saturation=0.05)], p=0.5),\n",
    "    T.RandomRotation(10),\n",
    "    T.ToTensor(),\n",
    "    T.Normalize([0.485,0.456,0.406],[0.229,0.224,0.225]),\n",
    "])\n",
    "val_transforms = T.Compose([\n",
    "    T.Resize((IMG_SIZE, IMG_SIZE)),\n",
    "    T.ToTensor(),\n",
    "    T.Normalize([0.485,0.456,0.406],[0.229,0.224,0.225]),\n",
    "])\n",
    "\n",
    "class CLARITYDataset(Dataset):\n",
    "    def __init__(self, df, img_map, classes, transform=None):\n",
    "        self.df = df.reset_index(drop=True)\n",
    "        self.img_map = img_map\n",
    "        self.transform = transform\n",
    "        self.classes = classes\n",
    "    def __len__(self): return len(self.df)\n",
    "    def __getitem__(self, idx):\n",
    "        row = self.df.iloc[idx]\n",
    "        img_name = row['Image Index']\n",
    "        path = self.img_map.get(img_name)\n",
    "        if path is None:\n",
    "            # return a black image in case of missing - robust handling\n",
    "            img = Image.new('RGB', (IMG_SIZE, IMG_SIZE), (0,0,0))\n",
    "        else:\n",
    "            img = Image.open(path).convert('RGB')\n",
    "        if self.transform:\n",
    "            img = self.transform(img)\n",
    "        labels = torch.tensor(row[self.classes].values.astype(np.float32))\n",
    "        return img, labels\n",
    "\n",
    "train_dataset = CLARITYDataset(train_df, img_map, mlb.classes_, transform=train_transforms)\n",
    "val_dataset = CLARITYDataset(val_df, img_map, mlb.classes_, transform=val_transforms)\n",
    "test_dataset = CLARITYDataset(test_df, img_map, mlb.classes_, transform=val_transforms)"
   ]
  },
  {
   "cell_type": "code",
   "execution_count": 10,
   "id": "a91e8420-1074-4dff-9602-b56b8cc10e06",
   "metadata": {},
   "outputs": [
    {
     "name": "stdout",
     "output_type": "stream",
     "text": [
      "Sample batch: torch.Size([16, 3, 224, 224]) torch.Size([16, 15])\n"
     ]
    }
   ],
   "source": [
    "train_labels = train_df[mlb.classes_].values\n",
    "class_counts_train = train_labels.sum(axis=0)\n",
    "# avoid zero division\n",
    "inv_class_freq = 1.0 / (class_counts_train + 1e-6)\n",
    "sample_weights = []\n",
    "for row in train_labels:\n",
    "    if row.sum() == 0:\n",
    "        sample_weights.append(1.0)\n",
    "    else:\n",
    "        sample_weights.append(float((inv_class_freq * row).sum()))\n",
    "sample_weights = np.array(sample_weights)\n",
    "sample_weights = sample_weights / np.mean(sample_weights)\n",
    "\n",
    "train_sampler = WeightedRandomSampler(sample_weights.tolist(), num_samples=len(sample_weights), replacement=True)\n",
    "\n",
    "train_loader = DataLoader(train_dataset, batch_size=BATCH_SIZE, sampler=train_sampler, num_workers=NUM_WORKERS, pin_memory=PIN_MEMORY)\n",
    "val_loader   = DataLoader(val_dataset, batch_size=BATCH_SIZE, shuffle=False, num_workers=NUM_WORKERS, pin_memory=PIN_MEMORY)\n",
    "test_loader  = DataLoader(test_dataset, batch_size=BATCH_SIZE, shuffle=False, num_workers=NUM_WORKERS, pin_memory=PIN_MEMORY)\n",
    "\n",
    "# quick check\n",
    "imgs, labs = next(iter(train_loader))\n",
    "print(\"Sample batch:\", imgs.shape, labs.shape)"
   ]
  },
  {
   "cell_type": "code",
   "execution_count": 11,
   "id": "f62a428e-a96c-40a3-b971-b69c23a6f0f2",
   "metadata": {},
   "outputs": [],
   "source": [
    "model = models.resnet50(weights=models.ResNet50_Weights.IMAGENET1K_V2)\n",
    "# replace final fc\n",
    "in_features = model.fc.in_features\n",
    "model.fc = nn.Sequential(\n",
    "    nn.Dropout(0.4),\n",
    "    nn.Linear(in_features, len(mlb.classes_))\n",
    ")\n",
    "model = model.to(DEVICE)\n",
    "\n",
    "# optionally freeze backbone for first few epochs (helpful)\n",
    "def set_requires_grad(model, requires_grad=False):\n",
    "    for name, param in model.named_parameters():\n",
    "        # keep final fc trainable\n",
    "        if 'fc' in name:\n",
    "            param.requires_grad = True\n",
    "        else:\n",
    "            param.requires_grad = requires_grad"
   ]
  },
  {
   "cell_type": "code",
   "execution_count": 13,
   "id": "2f4ae5ed-cee7-4ddd-bd5f-7a80785d907e",
   "metadata": {},
   "outputs": [],
   "source": [
    "use_focal = True  # set True to use FocalLoss instead of BCEWithLogits\n",
    "# pos_weight for BCEWithLogitsLoss: ratio max_count / count\n",
    "pos_weight = torch.tensor((class_counts_train.max() / (class_counts_train + 1e-6))).float().to(DEVICE)\n",
    "\n",
    "if use_focal:\n",
    "    criterion = FocalLoss(alpha=1.0, gamma=2.0, logits=True)\n",
    "else:\n",
    "    criterion = nn.BCEWithLogitsLoss(pos_weight=pos_weight)\n",
    "\n",
    "# optimizer: smaller LR for finetuning\n",
    "optimizer = torch.optim.AdamW(model.parameters(), lr=1e-4, weight_decay=1e-4)\n",
    "# scheduler: ReduceLROnPlateau (no verbose arg)\n",
    "scheduler = torch.optim.lr_scheduler.ReduceLROnPlateau(optimizer, mode='min', factor=0.5, patience=2)\n",
    "\n",
    "# callbacks\n",
    "checkpoint_path = Path(OUTPUT_DIR)/\"best_model_resnet.pth\""
   ]
  },
  {
   "cell_type": "code",
   "execution_count": null,
   "id": "e511c6b1-328c-45f9-b25d-1fbbed59f872",
   "metadata": {},
   "outputs": [
    {
     "data": {
      "application/vnd.jupyter.widget-view+json": {
       "model_id": "852a92260e614d5184cb3fcc3912e1d1",
       "version_major": 2,
       "version_minor": 0
      },
      "text/plain": [
       "VBox(children=(FloatProgress(value=0.0, max=20.0), HBox(children=(Label(value='train_loss: -'), Label(value='v…"
      ]
     },
     "metadata": {},
     "output_type": "display_data"
    },
    {
     "name": "stdout",
     "output_type": "stream",
     "text": [
      "Trainable: fc.1.weight\n",
      "Trainable: fc.1.bias\n"
     ]
    },
    {
     "name": "stderr",
     "output_type": "stream",
     "text": [
      "Epoch 1/20 [Train]: 100%|██████████████████████████████████████████████| 5615/5615 [28:10<00:00,  3.32it/s, loss=0.108]\n"
     ]
    },
    {
     "name": "stdout",
     "output_type": "stream",
     "text": [
      "Epoch 1: Train Loss=0.0966, Val Loss=0.0781, Val F1=0.0143, Val AUC=0.6829, Time=31.32 min\n"
     ]
    },
    {
     "name": "stderr",
     "output_type": "stream",
     "text": [
      "Epoch 2/20 [Train]: 100%|██████████████████████████████████████████████| 5615/5615 [28:15<00:00,  3.31it/s, loss=0.108]\n"
     ]
    },
    {
     "name": "stdout",
     "output_type": "stream",
     "text": [
      "Epoch 2: Train Loss=0.0935, Val Loss=0.0766, Val F1=0.0227, Val AUC=0.6963, Time=31.42 min\n",
      "Unfreezed backbone for fine-tuning.\n"
     ]
    },
    {
     "name": "stderr",
     "output_type": "stream",
     "text": [
      "Epoch 3/20 [Train]: 100%|█████████████████████████████████████████████| 5615/5615 [31:42<00:00,  2.95it/s, loss=0.0832]\n"
     ]
    },
    {
     "name": "stdout",
     "output_type": "stream",
     "text": [
      "Epoch 3: Train Loss=0.0795, Val Loss=0.0684, Val F1=0.2223, Val AUC=0.7987, Time=34.86 min\n"
     ]
    },
    {
     "name": "stderr",
     "output_type": "stream",
     "text": [
      "Epoch 4/20 [Train]: 100%|█████████████████████████████████████████████| 5615/5615 [31:41<00:00,  2.95it/s, loss=0.0967]\n"
     ]
    },
    {
     "name": "stdout",
     "output_type": "stream",
     "text": [
      "Epoch 4: Train Loss=0.0690, Val Loss=0.0702, Val F1=0.2456, Val AUC=0.7907, Time=34.83 min\n"
     ]
    },
    {
     "name": "stderr",
     "output_type": "stream",
     "text": [
      "Epoch 5/20 [Train]: 100%|█████████████████████████████████████████████| 5615/5615 [31:37<00:00,  2.96it/s, loss=0.0293]\n"
     ]
    },
    {
     "name": "stdout",
     "output_type": "stream",
     "text": [
      "Epoch 5: Train Loss=0.0623, Val Loss=0.0661, Val F1=0.2458, Val AUC=0.7770, Time=34.79 min\n"
     ]
    },
    {
     "name": "stderr",
     "output_type": "stream",
     "text": [
      "Epoch 6/20 [Train]: 100%|█████████████████████████████████████████████| 5615/5615 [31:38<00:00,  2.96it/s, loss=0.0424]\n"
     ]
    },
    {
     "name": "stdout",
     "output_type": "stream",
     "text": [
      "Epoch 6: Train Loss=0.0561, Val Loss=0.0686, Val F1=0.2541, Val AUC=0.7623, Time=34.80 min\n"
     ]
    },
    {
     "name": "stderr",
     "output_type": "stream",
     "text": [
      "Epoch 7/20 [Train]: 100%|██████████████████████████████████████████████| 5615/5615 [31:40<00:00,  2.95it/s, loss=0.117]\n"
     ]
    },
    {
     "name": "stdout",
     "output_type": "stream",
     "text": [
      "Epoch 7: Train Loss=0.0504, Val Loss=0.0720, Val F1=0.2462, Val AUC=0.7597, Time=34.81 min\n"
     ]
    },
    {
     "name": "stderr",
     "output_type": "stream",
     "text": [
      "Epoch 8/20 [Train]: 100%|█████████████████████████████████████████████| 5615/5615 [31:39<00:00,  2.96it/s, loss=0.0506]\n"
     ]
    },
    {
     "name": "stdout",
     "output_type": "stream",
     "text": [
      "Epoch 8: Train Loss=0.0455, Val Loss=0.0745, Val F1=0.2412, Val AUC=0.7554, Time=34.81 min\n"
     ]
    },
    {
     "name": "stderr",
     "output_type": "stream",
     "text": [
      "Epoch 9/20 [Train]: 100%|█████████████████████████████████████████████| 5615/5615 [31:37<00:00,  2.96it/s, loss=0.0825]\n"
     ]
    },
    {
     "name": "stdout",
     "output_type": "stream",
     "text": [
      "Epoch 9: Train Loss=0.0372, Val Loss=0.0816, Val F1=0.2435, Val AUC=0.7480, Time=34.79 min\n"
     ]
    },
    {
     "name": "stderr",
     "output_type": "stream",
     "text": [
      "Epoch 10/20 [Train]: 100%|████████████████████████████████████████████| 5615/5615 [31:36<00:00,  2.96it/s, loss=0.0554]\n"
     ]
    },
    {
     "name": "stdout",
     "output_type": "stream",
     "text": [
      "Epoch 10: Train Loss=0.0328, Val Loss=0.0807, Val F1=0.2599, Val AUC=0.7476, Time=34.76 min\n"
     ]
    },
    {
     "name": "stderr",
     "output_type": "stream",
     "text": [
      "Epoch 11/20 [Train]: 100%|████████████████████████████████████████████| 5615/5615 [31:38<00:00,  2.96it/s, loss=0.0654]\n"
     ]
    },
    {
     "name": "stdout",
     "output_type": "stream",
     "text": [
      "Epoch 11: Train Loss=0.0299, Val Loss=0.0826, Val F1=0.2571, Val AUC=0.7350, Time=34.78 min\n"
     ]
    },
    {
     "name": "stderr",
     "output_type": "stream",
     "text": [
      "Epoch 12/20 [Train]: 100%|████████████████████████████████████████████| 5615/5615 [31:36<00:00,  2.96it/s, loss=0.0504]\n"
     ]
    },
    {
     "name": "stdout",
     "output_type": "stream",
     "text": [
      "Epoch 12: Train Loss=0.0259, Val Loss=0.0848, Val F1=0.2526, Val AUC=0.7370, Time=34.77 min\n"
     ]
    },
    {
     "name": "stderr",
     "output_type": "stream",
     "text": [
      "Epoch 13/20 [Train]:   2%|▉                                            | 111/5615 [00:38<31:03,  2.95it/s, loss=0.0216]"
     ]
    }
   ],
   "source": [
    "EPOCHS = 20  # shorter first; increase after tuning\n",
    "scaler = torch.amp.GradScaler(enabled=(DEVICE.type == 'cuda'))\n",
    "\n",
    "history = {'train_loss':[], 'val_loss':[], 'val_auc':[], 'val_f1':[]}\n",
    "\n",
    "lp = FloatProgress(min=0, max=EPOCHS)\n",
    "train_loss_label = Label(\"train_loss: -\")\n",
    "val_loss_label = Label(\"val_loss: -\")\n",
    "val_f1_label = Label(\"val_f1: -\")\n",
    "val_auc_label = Label(\"val_auc: -\")\n",
    "display(VBox([lp, HBox([train_loss_label, val_loss_label, val_f1_label, val_auc_label])]))\n",
    "\n",
    "# Optionally freeze backbone for first 2 epochs -> train only fc\n",
    "set_requires_grad(model, requires_grad=False)\n",
    "for name, p in model.named_parameters():\n",
    "    if p.requires_grad:\n",
    "        print(\"Trainable:\", name)\n",
    "\n",
    "for epoch in range(1, EPOCHS+1):\n",
    "    t0 = time.time()\n",
    "    # unfreeze after 2 epochs\n",
    "    if epoch == 3:\n",
    "        set_requires_grad(model, requires_grad=True)\n",
    "        print(\"Unfreezed backbone for fine-tuning.\")\n",
    "\n",
    "    # training\n",
    "    model.train()\n",
    "    running_loss = 0.0\n",
    "    pbar = tqdm(train_loader, desc=f\"Epoch {epoch}/{EPOCHS} [Train]\")\n",
    "    for imgs, labels in pbar:\n",
    "        imgs = imgs.to(DEVICE); labels = labels.to(DEVICE)\n",
    "        optimizer.zero_grad()\n",
    "        # AMP context\n",
    "        with torch.amp.autocast(device_type=DEVICE.type):\n",
    "            outputs = model(imgs)\n",
    "            loss = criterion(outputs, labels)\n",
    "        # backprop\n",
    "        scaler.scale(loss).backward()\n",
    "        scaler.step(optimizer)\n",
    "        scaler.update()\n",
    "        running_loss += loss.item() * imgs.size(0)\n",
    "        pbar.set_postfix(loss=loss.item())\n",
    "    epoch_train_loss = running_loss / len(train_loader.dataset)\n",
    "    history['train_loss'].append(epoch_train_loss)\n",
    "\n",
    "    # validation\n",
    "    model.eval()\n",
    "    val_loss = 0.0\n",
    "    all_probs, all_targets = [], []\n",
    "    with torch.no_grad():\n",
    "        for imgs, labels in val_loader:\n",
    "            imgs = imgs.to(DEVICE); labels = labels.to(DEVICE)\n",
    "            with torch.amp.autocast(device_type=DEVICE.type):\n",
    "                outputs = model(imgs)\n",
    "                loss = criterion(outputs, labels)\n",
    "            val_loss += loss.item() * imgs.size(0)\n",
    "            all_probs.append(torch.sigmoid(outputs).cpu().numpy())\n",
    "            all_targets.append(labels.cpu().numpy())\n",
    "    epoch_val_loss = val_loss / len(val_loader.dataset)\n",
    "    history['val_loss'].append(epoch_val_loss)\n",
    "    all_probs = np.vstack(all_probs); all_targets = np.vstack(all_targets)\n",
    "\n",
    "    # metrics\n",
    "    try:\n",
    "        val_auc = roc_auc_score(all_targets, all_probs, average='macro')\n",
    "    except Exception:\n",
    "        val_auc = float('nan')\n",
    "    y_pred_bin = (all_probs > 0.5).astype(int)\n",
    "    val_f1 = f1_score(all_targets, y_pred_bin, average='macro', zero_division=0)\n",
    "\n",
    "    history['val_auc'].append(float(val_auc)); history['val_f1'].append(float(val_f1))\n",
    "\n",
    "    # scheduler step\n",
    "    scheduler.step(epoch_val_loss)\n",
    "\n",
    "    t1 = time.time()\n",
    "    print(f\"Epoch {epoch}: Train Loss={epoch_train_loss:.4f}, Val Loss={epoch_val_loss:.4f}, Val F1={val_f1:.4f}, Val AUC={val_auc:.4f}, Time={(t1-t0)/60:.2f} min\")\n",
    "\n",
    "    lp.value = epoch\n",
    "    train_loss_label.value = f\"train_loss: {epoch_train_loss:.4f}\"\n",
    "    val_loss_label.value   = f\"val_loss: {epoch_val_loss:.4f}\"\n",
    "    val_f1_label.value     = f\"val_f1: {val_f1:.4f}\"\n",
    "    val_auc_label.value    = f\"val_auc: {val_auc:.4f}\"\n",
    "\n",
    "# save history & plots\n",
    "save_history(history, Path(OUTPUT_DIR)/\"training_history_resnet.json\")\n",
    "plt.figure(figsize=(10,4)); \n",
    "plt.plot(history['train_loss'], label='train_loss'); \n",
    "plt.plot(history['val_loss'], label='val_loss'); \n",
    "plt.xlabel('epoch'); \n",
    "plt.ylabel('loss'); plt.legend(); \n",
    "plt.title('Loss curves'); \n",
    "plt.savefig(Path(OUTPUT_DIR)/\"loss_curves_resnet.png\", dpi=150); \n",
    "plt.show()"
   ]
  },
  {
   "cell_type": "code",
   "execution_count": null,
   "id": "9075549c-ab25-4e71-825e-881eb113b79e",
   "metadata": {},
   "outputs": [],
   "source": [
    "if Path(checkpoint_path).exists():\n",
    "    ckpt = torch.load(checkpoint_path, map_location=DEVICE)\n",
    "    model.load_state_dict(ckpt['model_state'])\n",
    "    print(\"Loaded best checkpoint.\")\n",
    "else:\n",
    "    print(\"No checkpoint found; using current model weights.\")\n",
    "\n",
    "model.eval()\n",
    "all_probs, all_targets = [], []\n",
    "with torch.no_grad():\n",
    "    for imgs, labels in tqdm(test_loader, desc=\"Predicting test set\"):\n",
    "        imgs = imgs.to(DEVICE)\n",
    "        with torch.amp.autocast(device_type=DEVICE.type):\n",
    "            outputs = model(imgs)\n",
    "        all_probs.append(torch.sigmoid(outputs).cpu().numpy())\n",
    "        all_targets.append(labels.numpy())\n",
    "all_probs = np.vstack(all_probs); all_targets = np.vstack(all_targets)\n",
    "# try compute optimal threshold per class using val set (recompute val probs)\n",
    "val_probs, val_targs = [], []\n",
    "with torch.no_grad():\n",
    "    for imgs, labels in val_loader:\n",
    "        imgs = imgs.to(DEVICE)\n",
    "        with torch.amp.autocast(device_type=DEVICE.type):\n",
    "            outputs = model(imgs)\n",
    "        val_probs.append(torch.sigmoid(outputs).cpu().numpy()); val_targs.append(labels.numpy())\n",
    "val_probs = np.vstack(val_probs); val_targs = np.vstack(val_targs)\n",
    "\n",
    "optimal_thresholds = []\n",
    "for i in range(len(mlb.classes_)):\n",
    "    try:\n",
    "        prec, rec, thr = precision_recall_curve(val_targs[:,i], val_probs[:,i])\n",
    "        f1s = 2*prec*rec/(prec+rec+1e-12)\n",
    "        if len(f1s) == 0:\n",
    "            best_t = 0.5\n",
    "        else:\n",
    "            best_idx = np.nanargmax(f1s[:-1]) if len(thr)>0 else -1\n",
    "            best_t = thr[best_idx] if best_idx >= 0 else 0.5\n",
    "    except Exception:\n",
    "        best_t = 0.5\n",
    "    optimal_thresholds.append(float(best_t))\n",
    "print(\"First 10 optimal thresholds:\", optimal_thresholds[:10])\n",
    "\n",
    "y_pred = (all_probs >= np.array(optimal_thresholds)[None,:]).astype(int)\n",
    "\n",
    "# global metrics\n",
    "f1_macro = f1_score(all_targets, y_pred, average='macro', zero_division=0)\n",
    "precision_macro = precision_score(all_targets, y_pred, average='macro', zero_division=0)\n",
    "recall_macro = recall_score(all_targets, y_pred, average='macro', zero_division=0)\n",
    "try:\n",
    "    auc_macro = roc_auc_score(all_targets, all_probs, average='macro')\n",
    "except:\n",
    "    auc_macro = float('nan')\n",
    "print(f\"Test: F1_macro={f1_macro:.4f}, Precision={precision_macro:.4f}, Recall={recall_macro:.4f}, AUC={auc_macro:.4f}\")\n",
    "\n",
    "# save classification report & preds\n",
    "report = classification_report(all_targets, y_pred, target_names=mlb.classes_, zero_division=0)\n",
    "with open(Path(OUTPUT_DIR)/\"classification_report_resnet.txt\", \"w\") as f:\n",
    "    f.write(report)\n",
    "print(report)\n",
    "\n",
    "pd.DataFrame(all_probs, columns=mlb.classes_).to_csv(Path(OUTPUT_DIR)/\"test_probs_resnet.csv\", index=False)\n",
    "pd.DataFrame(y_pred, columns=mlb.classes_).to_csv(Path(OUTPUT_DIR)/\"test_preds_resnet.csv\", index=False)\n",
    "pd.DataFrame(optimal_thresholds, index=mlb.classes_, columns=['threshold']).to_csv(Path(OUTPUT_DIR)/\"optimal_thresholds_resnet.csv\")\n",
    "\n",
    "# per-class f1 barplot\n",
    "per_f1 = []\n",
    "for i,c in enumerate(mlb.classes_):\n",
    "    per_f1.append(f1_score(all_targets[:,i], y_pred[:,i], zero_division=0))\n",
    "plt.figure(figsize=(12,4)); sns.barplot(x=mlb.classes_, y=per_f1); plt.xticks(rotation=60); plt.ylabel(\"F1\"); plt.title(\"Per-class F1\"); plt.tight_layout(); plt.savefig(Path(OUTPUT_DIR)/\"per_class_f1_resnet.png\", dpi=150); plt.show()\n",
    "\n",
    "# multilabel confusion matrix for first 6 classes\n",
    "mcm = multilabel_confusion_matrix(all_targets, y_pred)\n",
    "for i, label in enumerate(mlb.classes_[:6]):\n",
    "    plt.figure(figsize=(3,3)); sns.heatmap(mcm[i], annot=True, fmt='d', cmap='Blues'); plt.title(f\"Confusion Matrix: {label}\"); plt.xlabel(\"Predicted\"); plt.ylabel(\"Actual\"); plt.tight_layout(); plt.savefig(Path(OUTPUT_DIR)/f\"cm_{label}_resnet.png\", dpi=150); plt.show()\n",
    "\n",
    "# ROC for top 6 classes\n",
    "plt.figure(figsize=(8,6))\n",
    "for i,label in enumerate(mlb.classes_[:6]):\n",
    "    try:\n",
    "        fpr,tpr,_ = roc_curve(all_targets[:,i], all_probs[:,i])\n",
    "        roc_auc = auc(fpr,tpr)\n",
    "        plt.plot(fpr,tpr,label=f\"{label} (AUC={roc_auc:.2f})\")\n",
    "    except:\n",
    "        pass\n",
    "plt.plot([0,1],[0,1],'k--'); plt.legend(loc='lower right'); plt.title(\"ROC for top classes\"); plt.xlabel(\"FPR\"); plt.ylabel(\"TPR\"); plt.savefig(Path(OUTPUT_DIR)/\"roc_top6_resnet.png\", dpi=150); plt.show()"
   ]
  },
  {
   "cell_type": "code",
   "execution_count": null,
   "id": "047256bf-c3c0-431e-b934-8614efd21235",
   "metadata": {},
   "outputs": [],
   "source": [
    "try:\n",
    "    # target layer for ResNet50\n",
    "    target_layer = model.layer4[-1].conv3\n",
    "    cam = GradCAM(model=model, target_layers=[target_layer], use_cuda=(DEVICE.type=='cuda'))\n",
    "    sel_idx = np.random.choice(len(test_dataset), size=min(6, len(test_dataset)), replace=False)\n",
    "    os.makedirs(Path(OUTPUT_DIR)/\"gradcam_resnet\", exist_ok=True)\n",
    "    for k, idx in enumerate(sel_idx):\n",
    "        img_tensor, label = test_dataset[idx]\n",
    "        input_tensor = img_tensor.unsqueeze(0).to(DEVICE)\n",
    "        grayscale_cam = cam(input_tensor=input_tensor)[0]\n",
    "        img_np = img_tensor.permute(1,2,0).numpy()\n",
    "        img_for_vis = (img_np - img_np.min())/(img_np.max() - img_np.min() + 1e-8)\n",
    "        visualization = show_cam_on_image(img_for_vis, grayscale_cam, use_rgb=True)\n",
    "        plt.figure(figsize=(5,5)); plt.imshow(visualization); plt.axis('off')\n",
    "        gt_labels = [mlb.classes_[i] for i in range(len(label)) if label[i]==1]\n",
    "        plt.title(f\"GT: {gt_labels}\"); outpath = Path(OUTPUT_DIR)/f\"gradcam_resnet_{k}.png\"; plt.savefig(outpath, bbox_inches='tight', dpi=150); plt.show()\n",
    "except Exception as e:\n",
    "    print(\"Grad-CAM failed:\", e)"
   ]
  },
  {
   "cell_type": "code",
   "execution_count": null,
   "id": "b19ff45a-1a99-481a-9ae2-c946fc51ee9a",
   "metadata": {},
   "outputs": [],
   "source": [
    "torch.save({'model_state': model.state_dict(), 'optimizer_state': optimizer.state_dict()}, Path(OUTPUT_DIR)/\"final_model_resnet.pth\")\n",
    "save_history(history, Path(OUTPUT_DIR)/\"history_resnet.json\")\n",
    "print(\"All outputs saved to\", OUTPUT_DIR)"
   ]
  }
 ],
 "metadata": {
  "kernelspec": {
   "display_name": "Python 3 (ipykernel)",
   "language": "python",
   "name": "python3"
  },
  "language_info": {
   "codemirror_mode": {
    "name": "ipython",
    "version": 3
   },
   "file_extension": ".py",
   "mimetype": "text/x-python",
   "name": "python",
   "nbconvert_exporter": "python",
   "pygments_lexer": "ipython3",
   "version": "3.9.23"
  }
 },
 "nbformat": 4,
 "nbformat_minor": 5
}
