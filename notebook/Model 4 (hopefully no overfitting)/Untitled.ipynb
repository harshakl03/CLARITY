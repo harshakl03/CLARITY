{
 "cells": [
  {
   "cell_type": "code",
   "execution_count": 1,
   "id": "de88b690-f9be-44be-b586-0b56250b86f2",
   "metadata": {},
   "outputs": [],
   "source": [
    "# ============================\n",
    "# CLARITy — End-to-end Training + EVAL (EfficientNet) - PyTorch\n",
    "# Multi-label chest X-ray classification with anti-overfitting strategies\n",
    "# ============================\n",
    "\n",
    "# ----------------------------\n",
    "# 0. Edit paths\n",
    "# ----------------------------\n",
    "BASE_DIR = r\"D:\\Projects\\CLARITY\\Model\\Dataset\\archive\"   # root containing folders image_001/... each with \"images\" subfolder\n",
    "CSV_PATH = r\"D:\\Projects\\CLARITY\\Model\\Dataset\\archive\\Data_Entry_2017.csv\"  # metadata CSV\n",
    "OUTPUT_DIR = r\"./outputs\"\n",
    "import os\n",
    "os.makedirs(OUTPUT_DIR, exist_ok=True)"
   ]
  },
  {
   "cell_type": "code",
   "execution_count": 2,
   "id": "43dfcfab-952e-4b05-bb04-7c419a35affe",
   "metadata": {},
   "outputs": [],
   "source": [
    "# ----------------------------\n",
    "# 1. Imports\n",
    "# ----------------------------\n",
    "import json, time, random\n",
    "import numpy as np\n",
    "import pandas as pd\n",
    "import matplotlib.pyplot as plt\n",
    "import seaborn as sns\n",
    "from pathlib import Path\n",
    "from PIL import Image\n",
    "from tqdm import tqdm\n",
    "\n",
    "# PyTorch\n",
    "import torch\n",
    "import torch.nn as nn\n",
    "import torch.nn.functional as F\n",
    "from torch.utils.data import Dataset, DataLoader, WeightedRandomSampler\n",
    "import torchvision.transforms as T\n",
    "from torchvision.models import efficientnet_b3, EfficientNet_B3_Weights\n",
    "\n",
    "# Sklearn\n",
    "from sklearn.model_selection import train_test_split\n",
    "from sklearn.preprocessing import MultiLabelBinarizer\n",
    "from sklearn.metrics import (\n",
    "    classification_report, f1_score, precision_score, recall_score,\n",
    "    roc_auc_score, roc_curve, auc, multilabel_confusion_matrix, precision_recall_curve\n",
    ")\n",
    "\n",
    "# Grad-CAM\n",
    "try:\n",
    "    from pytorch_grad_cam import GradCAM\n",
    "    from pytorch_grad_cam.utils.image import show_cam_on_image\n",
    "except Exception:\n",
    "    print(\"Install 'grad-cam' if you want Grad-CAM visualization: pip install grad-cam\")"
   ]
  },
  {
   "cell_type": "code",
   "execution_count": 3,
   "id": "1a2569c6-5bce-413c-8ffb-cc60a3483d4a",
   "metadata": {},
   "outputs": [
    {
     "name": "stdout",
     "output_type": "stream",
     "text": [
      "Device: cuda\n"
     ]
    }
   ],
   "source": [
    "# ----------------------------\n",
    "# 2. Reproducibility + device\n",
    "# ----------------------------\n",
    "SEED = 42\n",
    "random.seed(SEED)\n",
    "np.random.seed(SEED)\n",
    "torch.manual_seed(SEED)\n",
    "DEVICE = torch.device(\"cuda\" if torch.cuda.is_available() else \"mps\" if torch.backends.mps.is_available() else \"cpu\")\n",
    "print(\"Device:\", DEVICE)"
   ]
  },
  {
   "cell_type": "code",
   "execution_count": 4,
   "id": "a9e95fec-2d95-46aa-ac66-8ae211226390",
   "metadata": {},
   "outputs": [],
   "source": [
    "# ----------------------------\n",
    "# 3. Utility classes/functions\n",
    "# ----------------------------\n",
    "class EarlyStopping:\n",
    "    def __init__(self, patience=5, verbose=False, delta=0.0, path=None):\n",
    "        self.patience = patience\n",
    "        self.verbose = verbose\n",
    "        self.delta = delta\n",
    "        self.best_loss = np.inf\n",
    "        self.counter = 0\n",
    "        self.early_stop = False\n",
    "        self.path = path\n",
    "\n",
    "    def __call__(self, val_loss, model):\n",
    "        if val_loss < self.best_loss - self.delta:\n",
    "            self.best_loss = val_loss\n",
    "            self.counter = 0\n",
    "            if self.path:\n",
    "                torch.save(model.state_dict(), self.path)\n",
    "                if self.verbose:\n",
    "                    print(f\"Saved checkpoint to {self.path}\")\n",
    "        else:\n",
    "            self.counter += 1\n",
    "            if self.verbose:\n",
    "                print(f\"EarlyStopping counter: {self.counter}/{self.patience}\")\n",
    "            if self.counter >= self.patience:\n",
    "                self.early_stop = True\n",
    "\n",
    "class FocalLoss(nn.Module):\n",
    "    def __init__(self, alpha=1.0, gamma=2.0, reduction='mean', logits=True):\n",
    "        super().__init__()\n",
    "        self.alpha = alpha\n",
    "        self.gamma = gamma\n",
    "        self.reduction = reduction\n",
    "        self.logits = logits\n",
    "    def forward(self, inputs, targets):\n",
    "        if self.logits:\n",
    "            bce = F.binary_cross_entropy_with_logits(inputs, targets, reduction='none')\n",
    "        else:\n",
    "            bce = F.binary_cross_entropy(inputs, targets, reduction='none')\n",
    "        pt = torch.exp(-bce)\n",
    "        loss = self.alpha * (1-pt)**self.gamma * bce\n",
    "        if self.reduction == 'mean':\n",
    "            return loss.mean()\n",
    "        elif self.reduction == 'sum':\n",
    "            return loss.sum()\n",
    "        return loss\n",
    "\n",
    "def save_history(history, path):\n",
    "    with open(path, 'w') as f:\n",
    "        json.dump(history, f, indent=2)"
   ]
  },
  {
   "cell_type": "code",
   "execution_count": 5,
   "id": "a7d945a8-9fc8-4e31-ae5a-3f8036252807",
   "metadata": {},
   "outputs": [
    {
     "name": "stdout",
     "output_type": "stream",
     "text": [
      "CSV rows: 112120\n"
     ]
    },
    {
     "data": {
      "text/html": [
       "<div>\n",
       "<style scoped>\n",
       "    .dataframe tbody tr th:only-of-type {\n",
       "        vertical-align: middle;\n",
       "    }\n",
       "\n",
       "    .dataframe tbody tr th {\n",
       "        vertical-align: top;\n",
       "    }\n",
       "\n",
       "    .dataframe thead th {\n",
       "        text-align: right;\n",
       "    }\n",
       "</style>\n",
       "<table border=\"1\" class=\"dataframe\">\n",
       "  <thead>\n",
       "    <tr style=\"text-align: right;\">\n",
       "      <th></th>\n",
       "      <th>Image Index</th>\n",
       "      <th>Finding Labels</th>\n",
       "      <th>Follow-up #</th>\n",
       "      <th>Patient ID</th>\n",
       "      <th>Patient Age</th>\n",
       "      <th>Patient Gender</th>\n",
       "      <th>View Position</th>\n",
       "      <th>OriginalImage[Width</th>\n",
       "      <th>Height]</th>\n",
       "      <th>OriginalImagePixelSpacing[x</th>\n",
       "      <th>y]</th>\n",
       "      <th>Unnamed: 11</th>\n",
       "    </tr>\n",
       "  </thead>\n",
       "  <tbody>\n",
       "    <tr>\n",
       "      <th>0</th>\n",
       "      <td>00000001_000.png</td>\n",
       "      <td>Cardiomegaly</td>\n",
       "      <td>0</td>\n",
       "      <td>1</td>\n",
       "      <td>58</td>\n",
       "      <td>M</td>\n",
       "      <td>PA</td>\n",
       "      <td>2682</td>\n",
       "      <td>2749</td>\n",
       "      <td>0.143</td>\n",
       "      <td>0.143</td>\n",
       "      <td>NaN</td>\n",
       "    </tr>\n",
       "    <tr>\n",
       "      <th>1</th>\n",
       "      <td>00000001_001.png</td>\n",
       "      <td>Cardiomegaly|Emphysema</td>\n",
       "      <td>1</td>\n",
       "      <td>1</td>\n",
       "      <td>58</td>\n",
       "      <td>M</td>\n",
       "      <td>PA</td>\n",
       "      <td>2894</td>\n",
       "      <td>2729</td>\n",
       "      <td>0.143</td>\n",
       "      <td>0.143</td>\n",
       "      <td>NaN</td>\n",
       "    </tr>\n",
       "    <tr>\n",
       "      <th>2</th>\n",
       "      <td>00000001_002.png</td>\n",
       "      <td>Cardiomegaly|Effusion</td>\n",
       "      <td>2</td>\n",
       "      <td>1</td>\n",
       "      <td>58</td>\n",
       "      <td>M</td>\n",
       "      <td>PA</td>\n",
       "      <td>2500</td>\n",
       "      <td>2048</td>\n",
       "      <td>0.168</td>\n",
       "      <td>0.168</td>\n",
       "      <td>NaN</td>\n",
       "    </tr>\n",
       "    <tr>\n",
       "      <th>3</th>\n",
       "      <td>00000002_000.png</td>\n",
       "      <td>NoFinding</td>\n",
       "      <td>0</td>\n",
       "      <td>2</td>\n",
       "      <td>81</td>\n",
       "      <td>M</td>\n",
       "      <td>PA</td>\n",
       "      <td>2500</td>\n",
       "      <td>2048</td>\n",
       "      <td>0.171</td>\n",
       "      <td>0.171</td>\n",
       "      <td>NaN</td>\n",
       "    </tr>\n",
       "    <tr>\n",
       "      <th>4</th>\n",
       "      <td>00000003_000.png</td>\n",
       "      <td>Hernia</td>\n",
       "      <td>0</td>\n",
       "      <td>3</td>\n",
       "      <td>81</td>\n",
       "      <td>F</td>\n",
       "      <td>PA</td>\n",
       "      <td>2582</td>\n",
       "      <td>2991</td>\n",
       "      <td>0.143</td>\n",
       "      <td>0.143</td>\n",
       "      <td>NaN</td>\n",
       "    </tr>\n",
       "  </tbody>\n",
       "</table>\n",
       "</div>"
      ],
      "text/plain": [
       "        Image Index          Finding Labels  Follow-up #  Patient ID  \\\n",
       "0  00000001_000.png            Cardiomegaly            0           1   \n",
       "1  00000001_001.png  Cardiomegaly|Emphysema            1           1   \n",
       "2  00000001_002.png   Cardiomegaly|Effusion            2           1   \n",
       "3  00000002_000.png               NoFinding            0           2   \n",
       "4  00000003_000.png                  Hernia            0           3   \n",
       "\n",
       "   Patient Age Patient Gender View Position  OriginalImage[Width  Height]  \\\n",
       "0           58              M            PA                 2682     2749   \n",
       "1           58              M            PA                 2894     2729   \n",
       "2           58              M            PA                 2500     2048   \n",
       "3           81              M            PA                 2500     2048   \n",
       "4           81              F            PA                 2582     2991   \n",
       "\n",
       "   OriginalImagePixelSpacing[x     y]  Unnamed: 11  \n",
       "0                        0.143  0.143          NaN  \n",
       "1                        0.143  0.143          NaN  \n",
       "2                        0.168  0.168          NaN  \n",
       "3                        0.171  0.171          NaN  \n",
       "4                        0.143  0.143          NaN  "
      ]
     },
     "metadata": {},
     "output_type": "display_data"
    },
    {
     "name": "stdout",
     "output_type": "stream",
     "text": [
      "Detected classes: 15\n",
      "['Atelectasis', 'Cardiomegaly', 'Consolidation', 'Edema', 'Effusion', 'Emphysema', 'Fibrosis', 'Hernia', 'Infiltration', 'Mass', 'NoFinding', 'Nodule', 'Pleural_Thickening', 'Pneumonia', 'Pneumothorax']\n"
     ]
    },
    {
     "data": {
      "image/png": "[encoded data removed]",
      "text/plain": [
       "<Figure size 1200x400 with 1 Axes>"
      ]
     },
     "metadata": {},
     "output_type": "display_data"
    },
    {
     "data": {
      "image/png": "[encoded data removed]",
      "text/plain": [
       "<Figure size 600x300 with 1 Axes>"
      ]
     },
     "metadata": {},
     "output_type": "display_data"
    },
    {
     "data": {
      "image/png": "[encoded data removed]",
      "text/plain": [
       "<Figure size 400x300 with 1 Axes>"
      ]
     },
     "metadata": {},
     "output_type": "display_data"
    }
   ],
   "source": [
    "# ----------------------------\n",
    "# 4. Load CSV and EDA\n",
    "# ----------------------------\n",
    "df = pd.read_csv(CSV_PATH)\n",
    "df['Finding Labels'] = df['Finding Labels'].astype(str).apply(lambda x: x.replace(\" \", \"\"))\n",
    "print(\"CSV rows:\", len(df))\n",
    "display(df.head())\n",
    "\n",
    "# Unique labels\n",
    "all_labels = sorted(set([lab for group in df['Finding Labels'].tolist() for lab in group.split('|')]))\n",
    "print(\"Detected classes:\", len(all_labels))\n",
    "print(all_labels)\n",
    "\n",
    "# Label frequency plot\n",
    "mlb_temp = MultiLabelBinarizer(classes=all_labels)\n",
    "y = mlb_temp.fit_transform(df['Finding Labels'].str.split('|'))\n",
    "label_counts = pd.Series(y.sum(axis=0), index=mlb_temp.classes_).sort_values(ascending=False)\n",
    "plt.figure(figsize=(12,4))\n",
    "sns.barplot(x=label_counts.index, y=label_counts.values)\n",
    "plt.xticks(rotation=60); plt.title(\"Label frequencies\"); plt.ylabel(\"Count\"); plt.tight_layout()\n",
    "plt.savefig(Path(OUTPUT_DIR)/\"label_freq.png\", dpi=150); plt.show()\n",
    "\n",
    "# Age & Gender distribution\n",
    "if 'Patient Age' in df.columns:\n",
    "    plt.figure(figsize=(6,3))\n",
    "    sns.histplot(df['Patient Age'].dropna().astype(float), bins=40)\n",
    "    plt.title('Age distribution'); plt.tight_layout(); plt.savefig(Path(OUTPUT_DIR)/\"age_dist.png\", dpi=150); plt.show()\n",
    "if 'Patient Gender' in df.columns:\n",
    "    plt.figure(figsize=(4,3))\n",
    "    sns.countplot(x='Patient Gender', data=df)\n",
    "    plt.title('Gender'); plt.tight_layout(); plt.savefig(Path(OUTPUT_DIR)/\"gender_count.png\", dpi=150); plt.show()"
   ]
  },
  {
   "cell_type": "code",
   "execution_count": 6,
   "id": "1fc29a33-8ed4-493f-91ac-ffda04beedeb",
   "metadata": {},
   "outputs": [
    {
     "name": "stdout",
     "output_type": "stream",
     "text": [
      "Caching image paths...\n",
      "Cached images: 112120\n",
      "After filtering missing images: 112120\n"
     ]
    }
   ],
   "source": [
    "# ----------------------------\n",
    "# 5. Cache image paths\n",
    "# ----------------------------\n",
    "print(\"Caching image paths...\")\n",
    "img_map = {}\n",
    "root = Path(BASE_DIR)\n",
    "for sub in root.iterdir():\n",
    "    if not sub.is_dir(): continue\n",
    "    images_dir = sub / \"images\"\n",
    "    if not images_dir.exists(): continue\n",
    "    for p in images_dir.iterdir():\n",
    "        if p.suffix.lower() in ('.png', '.jpg', '.jpeg'):\n",
    "            img_map[p.name] = str(p)\n",
    "print(\"Cached images:\", len(img_map))\n",
    "df['exists'] = df['Image Index'].apply(lambda x: x in img_map)\n",
    "df = df[df['exists']].reset_index(drop=True)\n",
    "print(\"After filtering missing images:\", len(df))"
   ]
  },
  {
   "cell_type": "code",
   "execution_count": 7,
   "id": "376f965c-7fbc-4831-a716-6a25b78e66fd",
   "metadata": {},
   "outputs": [],
   "source": [
    "# ----------------------------\n",
    "# 6. Label binarization & sample weights\n",
    "# ----------------------------\n",
    "mlb = MultiLabelBinarizer(classes=all_labels)\n",
    "labels_bin = mlb.fit_transform(df['Finding Labels'].str.split('|'))\n",
    "for i, c in enumerate(mlb.classes_):\n",
    "    df[c] = labels_bin[:, i]\n",
    "\n",
    "# Sample weights for WeightedRandomSampler\n",
    "class_counts = labels_bin.sum(axis=0)\n",
    "inv_class_freq = 1.0 / (class_counts + 1e-6)\n",
    "sample_weights = []\n",
    "for row in labels_bin:\n",
    "    sample_weights.append(float((inv_class_freq * row).sum()) if row.sum()>0 else 1.0)\n",
    "sample_weights = np.array(sample_weights)\n",
    "sample_weights = sample_weights / np.mean(sample_weights)"
   ]
  },
  {
   "cell_type": "code",
   "execution_count": 8,
   "id": "080f65f6-7854-400f-bbad-8ed29b6102a4",
   "metadata": {},
   "outputs": [
    {
     "name": "stdout",
     "output_type": "stream",
     "text": [
      "Train/Val/Test sizes: 89826 10930 11364\n"
     ]
    }
   ],
   "source": [
    "# ----------------------------\n",
    "# 7. Train/Val/Test split (multi-label safe)\n",
    "# ----------------------------\n",
    "# If 'Patient ID' exists, split by patient\n",
    "if 'Patient ID' in df.columns:\n",
    "    unique_patients = df['Patient ID'].unique()\n",
    "    train_patients, temp_patients = train_test_split(unique_patients, test_size=0.2, random_state=SEED)\n",
    "    val_patients, test_patients = train_test_split(temp_patients, test_size=0.5, random_state=SEED)\n",
    "\n",
    "    train_df = df[df['Patient ID'].isin(train_patients)].reset_index(drop=True)\n",
    "    val_df   = df[df['Patient ID'].isin(val_patients)].reset_index(drop=True)\n",
    "    test_df  = df[df['Patient ID'].isin(test_patients)].reset_index(drop=True)\n",
    "else:\n",
    "    # Fallback: stratify by single most frequent label\n",
    "    df['primary_label'] = df[mlb.classes_].idxmax(axis=1)\n",
    "    train_df, temp_df = train_test_split(df, test_size=0.2, random_state=SEED, stratify=df['primary_label'])\n",
    "    val_df, test_df  = train_test_split(temp_df, test_size=0.5, random_state=SEED, stratify=temp_df['primary_label'])\n",
    "    train_df = train_df.reset_index(drop=True)\n",
    "    val_df   = val_df.reset_index(drop=True)\n",
    "    test_df  = test_df.reset_index(drop=True)\n",
    "\n",
    "print(\"Train/Val/Test sizes:\", len(train_df), len(val_df), len(test_df))\n",
    "\n",
    "# Drop temporary column if created\n",
    "if 'primary_label' in df.columns:\n",
    "    df.drop(columns=['primary_label'], inplace=True)"
   ]
  },
  {
   "cell_type": "code",
   "execution_count": 9,
   "id": "d4b5f322-9b90-4bf6-829e-09a10e3c8815",
   "metadata": {},
   "outputs": [],
   "source": [
    "# ----------------------------\n",
    "# 8. Dataset & DataLoader\n",
    "# ----------------------------\n",
    "IMG_SIZE = 224\n",
    "BATCH_SIZE = 16\n",
    "NUM_WORKERS = 0\n",
    "\n",
    "train_transforms = T.Compose([\n",
    "    T.RandomResizedCrop(IMG_SIZE, scale=(0.8, 1.0)),\n",
    "    T.RandomHorizontalFlip(),\n",
    "    T.RandomApply([T.ColorJitter(brightness=0.08, contrast=0.08)], p=0.5),\n",
    "    T.RandomRotation(10),\n",
    "    T.ToTensor(),\n",
    "    T.Normalize([0.485,0.456,0.406],[0.229,0.224,0.225])\n",
    "])\n",
    "val_transforms = T.Compose([\n",
    "    T.Resize((IMG_SIZE, IMG_SIZE)),\n",
    "    T.ToTensor(),\n",
    "    T.Normalize([0.485,0.456,0.406],[0.229,0.224,0.225])\n",
    "])\n",
    "\n",
    "class CLARITYDataset(Dataset):\n",
    "    def __init__(self, df, img_map, classes, transform=None):\n",
    "        self.df = df.reset_index(drop=True)\n",
    "        self.img_map = img_map\n",
    "        self.transform = transform\n",
    "        self.classes = classes\n",
    "    def __len__(self): return len(self.df)\n",
    "    def __getitem__(self, idx):\n",
    "        row = self.df.iloc[idx]\n",
    "        path = self.img_map[row['Image Index']]\n",
    "        img = Image.open(path).convert('RGB')\n",
    "        if self.transform: img = self.transform(img)\n",
    "        labels = torch.tensor(row[self.classes].values.astype(np.float32))\n",
    "        return img, labels\n",
    "\n",
    "train_dataset = CLARITYDataset(train_df, img_map, mlb.classes_, train_transforms)\n",
    "val_dataset = CLARITYDataset(val_df, img_map, mlb.classes_, val_transforms)\n",
    "test_dataset = CLARITYDataset(test_df, img_map, mlb.classes_, val_transforms)\n",
    "\n",
    "# Compute sample weights for WeightedRandomSampler\n",
    "labels_bin_train = train_df[mlb.classes_].values\n",
    "class_counts = labels_bin_train.sum(axis=0)\n",
    "inv_class_freq = 1.0 / (class_counts + 1e-6)\n",
    "\n",
    "sample_weights = []\n",
    "for row in labels_bin_train:\n",
    "    if row.sum() == 0:\n",
    "        sample_weights.append(1.0)\n",
    "    else:\n",
    "        sample_weights.append(float((inv_class_freq * row).sum()))\n",
    "sample_weights = np.array(sample_weights)\n",
    "sample_weights = sample_weights / np.mean(sample_weights)\n",
    "\n",
    "sampler = WeightedRandomSampler(sample_weights.tolist(), num_samples=len(sample_weights), replacement=True)\n",
    "\n",
    "# DataLoaders\n",
    "train_loader = DataLoader(train_dataset, batch_size=BATCH_SIZE, sampler=sampler, num_workers=NUM_WORKERS, pin_memory=True)\n",
    "val_loader   = DataLoader(val_dataset, batch_size=BATCH_SIZE, shuffle=False, num_workers=NUM_WORKERS, pin_memory=True)\n",
    "test_loader  = DataLoader(test_dataset, batch_size=BATCH_SIZE, shuffle=False, num_workers=NUM_WORKERS, pin_memory=True)"
   ]
  },
  {
   "cell_type": "code",
   "execution_count": 10,
   "id": "0b767122-466d-4aea-8ac1-4b9a6ddadb08",
   "metadata": {},
   "outputs": [],
   "source": [
    "# ----------------------------\n",
    "# 9. Model, loss, optimizer, scheduler\n",
    "# ----------------------------\n",
    "weights = EfficientNet_B3_Weights.IMAGENET1K_V1\n",
    "model = efficientnet_b3(weights=weights)\n",
    "in_ch = model.classifier[1].in_features\n",
    "model.classifier = nn.Sequential(\n",
    "    nn.Dropout(0.4),\n",
    "    nn.Linear(in_ch, len(mlb.classes_))\n",
    ")\n",
    "model = model.to(DEVICE)\n",
    "\n",
    "# Loss\n",
    "use_focal = True\n",
    "pos_weight = torch.tensor((class_counts.max() / (class_counts + 1e-6))).float().to(DEVICE)\n",
    "criterion = FocalLoss(alpha=1.0, gamma=2.0, logits=True) if use_focal else nn.BCEWithLogitsLoss(pos_weight=pos_weight)\n",
    "\n",
    "# Optimizer & scheduler\n",
    "optimizer = torch.optim.AdamW(model.parameters(), lr=3e-4, weight_decay=1e-5)\n",
    "scheduler = torch.optim.lr_scheduler.ReduceLROnPlateau(optimizer, mode='min', factor=0.5, patience=2)\n",
    "\n",
    "# Early stopping\n",
    "checkpoint_path = Path(OUTPUT_DIR)/\"best_model.pth\"\n",
    "es = EarlyStopping(patience=5, verbose=True, path=str(checkpoint_path))"
   ]
  },
  {
   "cell_type": "code",
   "execution_count": 11,
   "id": "1b891f97-6614-4560-b363-08ba76b4ff8b",
   "metadata": {},
   "outputs": [
    {
     "name": "stderr",
     "output_type": "stream",
     "text": [
      "Epoch 1/30 [Train]: 100%|██████████████████████████████████████████████████████████| 5615/5615 [29:32<00:00,  3.17it/s]\n"
     ]
    },
    {
     "name": "stdout",
     "output_type": "stream",
     "text": [
      "Saved checkpoint to outputs\\best_model.pth\n",
      "Epoch 1: Train Loss=0.0791, Val Loss=0.0724, Val F1=0.2242, Val AUC=0.7796, Time=32.80 min\n"
     ]
    },
    {
     "name": "stderr",
     "output_type": "stream",
     "text": [
      "Epoch 2/30 [Train]: 100%|██████████████████████████████████████████████████████████| 5615/5615 [29:24<00:00,  3.18it/s]\n"
     ]
    },
    {
     "name": "stdout",
     "output_type": "stream",
     "text": [
      "Saved checkpoint to outputs\\best_model.pth\n",
      "Epoch 2: Train Loss=0.0659, Val Loss=0.0677, Val F1=0.2509, Val AUC=0.7730, Time=32.68 min\n"
     ]
    },
    {
     "name": "stderr",
     "output_type": "stream",
     "text": [
      "Epoch 3/30 [Train]: 100%|██████████████████████████████████████████████████████████| 5615/5615 [30:48<00:00,  3.04it/s]\n"
     ]
    },
    {
     "name": "stdout",
     "output_type": "stream",
     "text": [
      "EarlyStopping counter: 1/5\n",
      "Epoch 3: Train Loss=0.0566, Val Loss=0.0726, Val F1=0.2474, Val AUC=0.7596, Time=34.06 min\n"
     ]
    },
    {
     "name": "stderr",
     "output_type": "stream",
     "text": [
      "Epoch 4/30 [Train]: 100%|██████████████████████████████████████████████████████████| 5615/5615 [33:24<00:00,  2.80it/s]\n"
     ]
    },
    {
     "name": "stdout",
     "output_type": "stream",
     "text": [
      "EarlyStopping counter: 2/5\n",
      "Epoch 4: Train Loss=0.0492, Val Loss=0.0815, Val F1=0.2375, Val AUC=0.7493, Time=36.67 min\n"
     ]
    },
    {
     "name": "stderr",
     "output_type": "stream",
     "text": [
      "Epoch 5/30 [Train]: 100%|██████████████████████████████████████████████████████████| 5615/5615 [33:25<00:00,  2.80it/s]\n"
     ]
    },
    {
     "name": "stdout",
     "output_type": "stream",
     "text": [
      "EarlyStopping counter: 3/5\n",
      "Epoch 5: Train Loss=0.0430, Val Loss=0.0813, Val F1=0.2287, Val AUC=0.7394, Time=36.70 min\n"
     ]
    },
    {
     "name": "stderr",
     "output_type": "stream",
     "text": [
      "Epoch 6/30 [Train]:  11%|██████▎                                                    | 595/5615 [03:35<30:17,  2.76it/s]\n"
     ]
    },
    {
     "ename": "KeyboardInterrupt",
     "evalue": "",
     "output_type": "error",
     "traceback": [
      "\u001b[1;31m---------------------------------------------------------------------------\u001b[0m",
      "\u001b[1;31mKeyboardInterrupt\u001b[0m                         Traceback (most recent call last)",
      "Cell \u001b[1;32mIn[11], line 13\u001b[0m\n\u001b[0;32m     11\u001b[0m model\u001b[38;5;241m.\u001b[39mtrain()\n\u001b[0;32m     12\u001b[0m running_loss \u001b[38;5;241m=\u001b[39m \u001b[38;5;241m0.0\u001b[39m\n\u001b[1;32m---> 13\u001b[0m \u001b[38;5;28;01mfor\u001b[39;00m imgs, labels \u001b[38;5;129;01min\u001b[39;00m tqdm(train_loader, desc\u001b[38;5;241m=\u001b[39m\u001b[38;5;124mf\u001b[39m\u001b[38;5;124m\"\u001b[39m\u001b[38;5;124mEpoch \u001b[39m\u001b[38;5;132;01m{\u001b[39;00mepoch\u001b[38;5;132;01m}\u001b[39;00m\u001b[38;5;124m/\u001b[39m\u001b[38;5;132;01m{\u001b[39;00mEPOCHS\u001b[38;5;132;01m}\u001b[39;00m\u001b[38;5;124m [Train]\u001b[39m\u001b[38;5;124m\"\u001b[39m):\n\u001b[0;32m     14\u001b[0m     imgs, labels \u001b[38;5;241m=\u001b[39m imgs\u001b[38;5;241m.\u001b[39mto(DEVICE), labels\u001b[38;5;241m.\u001b[39mto(DEVICE)\n\u001b[0;32m     15\u001b[0m     optimizer\u001b[38;5;241m.\u001b[39mzero_grad()\n",
      "File \u001b[1;32mD:\\Projects\\CLARITY\\Model\\CLARITY.env\\lib\\site-packages\\tqdm\\std.py:1181\u001b[0m, in \u001b[0;36mtqdm.__iter__\u001b[1;34m(self)\u001b[0m\n\u001b[0;32m   1178\u001b[0m time \u001b[38;5;241m=\u001b[39m \u001b[38;5;28mself\u001b[39m\u001b[38;5;241m.\u001b[39m_time\n\u001b[0;32m   1180\u001b[0m \u001b[38;5;28;01mtry\u001b[39;00m:\n\u001b[1;32m-> 1181\u001b[0m     \u001b[38;5;28;01mfor\u001b[39;00m obj \u001b[38;5;129;01min\u001b[39;00m iterable:\n\u001b[0;32m   1182\u001b[0m         \u001b[38;5;28;01myield\u001b[39;00m obj\n\u001b[0;32m   1183\u001b[0m         \u001b[38;5;66;03m# Update and possibly print the progressbar.\u001b[39;00m\n\u001b[0;32m   1184\u001b[0m         \u001b[38;5;66;03m# Note: does not call self.update(1) for speed optimisation.\u001b[39;00m\n",
      "File \u001b[1;32mD:\\Projects\\CLARITY\\Model\\CLARITY.env\\lib\\site-packages\\torch\\utils\\data\\dataloader.py:733\u001b[0m, in \u001b[0;36m_BaseDataLoaderIter.__next__\u001b[1;34m(self)\u001b[0m\n\u001b[0;32m    730\u001b[0m \u001b[38;5;28;01mif\u001b[39;00m \u001b[38;5;28mself\u001b[39m\u001b[38;5;241m.\u001b[39m_sampler_iter \u001b[38;5;129;01mis\u001b[39;00m \u001b[38;5;28;01mNone\u001b[39;00m:\n\u001b[0;32m    731\u001b[0m     \u001b[38;5;66;03m# TODO(https://github.com/pytorch/pytorch/issues/76750)\u001b[39;00m\n\u001b[0;32m    732\u001b[0m     \u001b[38;5;28mself\u001b[39m\u001b[38;5;241m.\u001b[39m_reset()  \u001b[38;5;66;03m# type: ignore[call-arg]\u001b[39;00m\n\u001b[1;32m--> 733\u001b[0m data \u001b[38;5;241m=\u001b[39m \u001b[38;5;28;43mself\u001b[39;49m\u001b[38;5;241;43m.\u001b[39;49m\u001b[43m_next_data\u001b[49m\u001b[43m(\u001b[49m\u001b[43m)\u001b[49m\n\u001b[0;32m    734\u001b[0m \u001b[38;5;28mself\u001b[39m\u001b[38;5;241m.\u001b[39m_num_yielded \u001b[38;5;241m+\u001b[39m\u001b[38;5;241m=\u001b[39m \u001b[38;5;241m1\u001b[39m\n\u001b[0;32m    735\u001b[0m \u001b[38;5;28;01mif\u001b[39;00m (\n\u001b[0;32m    736\u001b[0m     \u001b[38;5;28mself\u001b[39m\u001b[38;5;241m.\u001b[39m_dataset_kind \u001b[38;5;241m==\u001b[39m _DatasetKind\u001b[38;5;241m.\u001b[39mIterable\n\u001b[0;32m    737\u001b[0m     \u001b[38;5;129;01mand\u001b[39;00m \u001b[38;5;28mself\u001b[39m\u001b[38;5;241m.\u001b[39m_IterableDataset_len_called \u001b[38;5;129;01mis\u001b[39;00m \u001b[38;5;129;01mnot\u001b[39;00m \u001b[38;5;28;01mNone\u001b[39;00m\n\u001b[0;32m    738\u001b[0m     \u001b[38;5;129;01mand\u001b[39;00m \u001b[38;5;28mself\u001b[39m\u001b[38;5;241m.\u001b[39m_num_yielded \u001b[38;5;241m>\u001b[39m \u001b[38;5;28mself\u001b[39m\u001b[38;5;241m.\u001b[39m_IterableDataset_len_called\n\u001b[0;32m    739\u001b[0m ):\n",
      "File \u001b[1;32mD:\\Projects\\CLARITY\\Model\\CLARITY.env\\lib\\site-packages\\torch\\utils\\data\\dataloader.py:789\u001b[0m, in \u001b[0;36m_SingleProcessDataLoaderIter._next_data\u001b[1;34m(self)\u001b[0m\n\u001b[0;32m    787\u001b[0m \u001b[38;5;28;01mdef\u001b[39;00m\u001b[38;5;250m \u001b[39m\u001b[38;5;21m_next_data\u001b[39m(\u001b[38;5;28mself\u001b[39m):\n\u001b[0;32m    788\u001b[0m     index \u001b[38;5;241m=\u001b[39m \u001b[38;5;28mself\u001b[39m\u001b[38;5;241m.\u001b[39m_next_index()  \u001b[38;5;66;03m# may raise StopIteration\u001b[39;00m\n\u001b[1;32m--> 789\u001b[0m     data \u001b[38;5;241m=\u001b[39m \u001b[38;5;28;43mself\u001b[39;49m\u001b[38;5;241;43m.\u001b[39;49m\u001b[43m_dataset_fetcher\u001b[49m\u001b[38;5;241;43m.\u001b[39;49m\u001b[43mfetch\u001b[49m\u001b[43m(\u001b[49m\u001b[43mindex\u001b[49m\u001b[43m)\u001b[49m  \u001b[38;5;66;03m# may raise StopIteration\u001b[39;00m\n\u001b[0;32m    790\u001b[0m     \u001b[38;5;28;01mif\u001b[39;00m \u001b[38;5;28mself\u001b[39m\u001b[38;5;241m.\u001b[39m_pin_memory:\n\u001b[0;32m    791\u001b[0m         data \u001b[38;5;241m=\u001b[39m _utils\u001b[38;5;241m.\u001b[39mpin_memory\u001b[38;5;241m.\u001b[39mpin_memory(data, \u001b[38;5;28mself\u001b[39m\u001b[38;5;241m.\u001b[39m_pin_memory_device)\n",
      "File \u001b[1;32mD:\\Projects\\CLARITY\\Model\\CLARITY.env\\lib\\site-packages\\torch\\utils\\data\\_utils\\fetch.py:52\u001b[0m, in \u001b[0;36m_MapDatasetFetcher.fetch\u001b[1;34m(self, possibly_batched_index)\u001b[0m\n\u001b[0;32m     50\u001b[0m         data \u001b[38;5;241m=\u001b[39m \u001b[38;5;28mself\u001b[39m\u001b[38;5;241m.\u001b[39mdataset\u001b[38;5;241m.\u001b[39m__getitems__(possibly_batched_index)\n\u001b[0;32m     51\u001b[0m     \u001b[38;5;28;01melse\u001b[39;00m:\n\u001b[1;32m---> 52\u001b[0m         data \u001b[38;5;241m=\u001b[39m [\u001b[38;5;28mself\u001b[39m\u001b[38;5;241m.\u001b[39mdataset[idx] \u001b[38;5;28;01mfor\u001b[39;00m idx \u001b[38;5;129;01min\u001b[39;00m possibly_batched_index]\n\u001b[0;32m     53\u001b[0m \u001b[38;5;28;01melse\u001b[39;00m:\n\u001b[0;32m     54\u001b[0m     data \u001b[38;5;241m=\u001b[39m \u001b[38;5;28mself\u001b[39m\u001b[38;5;241m.\u001b[39mdataset[possibly_batched_index]\n",
      "File \u001b[1;32mD:\\Projects\\CLARITY\\Model\\CLARITY.env\\lib\\site-packages\\torch\\utils\\data\\_utils\\fetch.py:52\u001b[0m, in \u001b[0;36m<listcomp>\u001b[1;34m(.0)\u001b[0m\n\u001b[0;32m     50\u001b[0m         data \u001b[38;5;241m=\u001b[39m \u001b[38;5;28mself\u001b[39m\u001b[38;5;241m.\u001b[39mdataset\u001b[38;5;241m.\u001b[39m__getitems__(possibly_batched_index)\n\u001b[0;32m     51\u001b[0m     \u001b[38;5;28;01melse\u001b[39;00m:\n\u001b[1;32m---> 52\u001b[0m         data \u001b[38;5;241m=\u001b[39m [\u001b[38;5;28;43mself\u001b[39;49m\u001b[38;5;241;43m.\u001b[39;49m\u001b[43mdataset\u001b[49m\u001b[43m[\u001b[49m\u001b[43midx\u001b[49m\u001b[43m]\u001b[49m \u001b[38;5;28;01mfor\u001b[39;00m idx \u001b[38;5;129;01min\u001b[39;00m possibly_batched_index]\n\u001b[0;32m     53\u001b[0m \u001b[38;5;28;01melse\u001b[39;00m:\n\u001b[0;32m     54\u001b[0m     data \u001b[38;5;241m=\u001b[39m \u001b[38;5;28mself\u001b[39m\u001b[38;5;241m.\u001b[39mdataset[possibly_batched_index]\n",
      "Cell \u001b[1;32mIn[9], line 32\u001b[0m, in \u001b[0;36mCLARITYDataset.__getitem__\u001b[1;34m(self, idx)\u001b[0m\n\u001b[0;32m     30\u001b[0m row \u001b[38;5;241m=\u001b[39m \u001b[38;5;28mself\u001b[39m\u001b[38;5;241m.\u001b[39mdf\u001b[38;5;241m.\u001b[39miloc[idx]\n\u001b[0;32m     31\u001b[0m path \u001b[38;5;241m=\u001b[39m \u001b[38;5;28mself\u001b[39m\u001b[38;5;241m.\u001b[39mimg_map[row[\u001b[38;5;124m'\u001b[39m\u001b[38;5;124mImage Index\u001b[39m\u001b[38;5;124m'\u001b[39m]]\n\u001b[1;32m---> 32\u001b[0m img \u001b[38;5;241m=\u001b[39m \u001b[43mImage\u001b[49m\u001b[38;5;241;43m.\u001b[39;49m\u001b[43mopen\u001b[49m\u001b[43m(\u001b[49m\u001b[43mpath\u001b[49m\u001b[43m)\u001b[49m\u001b[38;5;241;43m.\u001b[39;49m\u001b[43mconvert\u001b[49m\u001b[43m(\u001b[49m\u001b[38;5;124;43m'\u001b[39;49m\u001b[38;5;124;43mRGB\u001b[39;49m\u001b[38;5;124;43m'\u001b[39;49m\u001b[43m)\u001b[49m\n\u001b[0;32m     33\u001b[0m \u001b[38;5;28;01mif\u001b[39;00m \u001b[38;5;28mself\u001b[39m\u001b[38;5;241m.\u001b[39mtransform: img \u001b[38;5;241m=\u001b[39m \u001b[38;5;28mself\u001b[39m\u001b[38;5;241m.\u001b[39mtransform(img)\n\u001b[0;32m     34\u001b[0m labels \u001b[38;5;241m=\u001b[39m torch\u001b[38;5;241m.\u001b[39mtensor(row[\u001b[38;5;28mself\u001b[39m\u001b[38;5;241m.\u001b[39mclasses]\u001b[38;5;241m.\u001b[39mvalues\u001b[38;5;241m.\u001b[39mastype(np\u001b[38;5;241m.\u001b[39mfloat32))\n",
      "File \u001b[1;32mD:\\Projects\\CLARITY\\Model\\CLARITY.env\\lib\\site-packages\\PIL\\Image.py:993\u001b[0m, in \u001b[0;36mImage.convert\u001b[1;34m(self, mode, matrix, dither, palette, colors)\u001b[0m\n\u001b[0;32m    990\u001b[0m \u001b[38;5;28;01mif\u001b[39;00m mode \u001b[38;5;129;01min\u001b[39;00m (\u001b[38;5;124m\"\u001b[39m\u001b[38;5;124mBGR;15\u001b[39m\u001b[38;5;124m\"\u001b[39m, \u001b[38;5;124m\"\u001b[39m\u001b[38;5;124mBGR;16\u001b[39m\u001b[38;5;124m\"\u001b[39m, \u001b[38;5;124m\"\u001b[39m\u001b[38;5;124mBGR;24\u001b[39m\u001b[38;5;124m\"\u001b[39m):\n\u001b[0;32m    991\u001b[0m     deprecate(mode, \u001b[38;5;241m12\u001b[39m)\n\u001b[1;32m--> 993\u001b[0m \u001b[38;5;28;43mself\u001b[39;49m\u001b[38;5;241;43m.\u001b[39;49m\u001b[43mload\u001b[49m\u001b[43m(\u001b[49m\u001b[43m)\u001b[49m\n\u001b[0;32m    995\u001b[0m has_transparency \u001b[38;5;241m=\u001b[39m \u001b[38;5;124m\"\u001b[39m\u001b[38;5;124mtransparency\u001b[39m\u001b[38;5;124m\"\u001b[39m \u001b[38;5;129;01min\u001b[39;00m \u001b[38;5;28mself\u001b[39m\u001b[38;5;241m.\u001b[39minfo\n\u001b[0;32m    996\u001b[0m \u001b[38;5;28;01mif\u001b[39;00m \u001b[38;5;129;01mnot\u001b[39;00m mode \u001b[38;5;129;01mand\u001b[39;00m \u001b[38;5;28mself\u001b[39m\u001b[38;5;241m.\u001b[39mmode \u001b[38;5;241m==\u001b[39m \u001b[38;5;124m\"\u001b[39m\u001b[38;5;124mP\u001b[39m\u001b[38;5;124m\"\u001b[39m:\n\u001b[0;32m    997\u001b[0m     \u001b[38;5;66;03m# determine default mode\u001b[39;00m\n",
      "File \u001b[1;32mD:\\Projects\\CLARITY\\Model\\CLARITY.env\\lib\\site-packages\\PIL\\ImageFile.py:300\u001b[0m, in \u001b[0;36mImageFile.load\u001b[1;34m(self)\u001b[0m\n\u001b[0;32m    297\u001b[0m         \u001b[38;5;28;01mraise\u001b[39;00m \u001b[38;5;167;01mOSError\u001b[39;00m(msg)\n\u001b[0;32m    299\u001b[0m b \u001b[38;5;241m=\u001b[39m b \u001b[38;5;241m+\u001b[39m s\n\u001b[1;32m--> 300\u001b[0m n, err_code \u001b[38;5;241m=\u001b[39m \u001b[43mdecoder\u001b[49m\u001b[38;5;241;43m.\u001b[39;49m\u001b[43mdecode\u001b[49m\u001b[43m(\u001b[49m\u001b[43mb\u001b[49m\u001b[43m)\u001b[49m\n\u001b[0;32m    301\u001b[0m \u001b[38;5;28;01mif\u001b[39;00m n \u001b[38;5;241m<\u001b[39m \u001b[38;5;241m0\u001b[39m:\n\u001b[0;32m    302\u001b[0m     \u001b[38;5;28;01mbreak\u001b[39;00m\n",
      "\u001b[1;31mKeyboardInterrupt\u001b[0m: "
     ]
    }
   ],
   "source": [
    "# ----------------------------\n",
    "# 10. Training loop (mixed precision + checkpoint + history)\n",
    "# ----------------------------\n",
    "EPOCHS = 30\n",
    "history = {'train_loss':[], 'val_loss':[], 'val_auc':[], 'val_f1':[]}\n",
    "scaler = torch.amp.GradScaler(enabled=(DEVICE.type=='cuda'))\n",
    "\n",
    "for epoch in range(1, EPOCHS+1):\n",
    "    t0 = time.time()\n",
    "    # Train\n",
    "    model.train()\n",
    "    running_loss = 0.0\n",
    "    for imgs, labels in tqdm(train_loader, desc=f\"Epoch {epoch}/{EPOCHS} [Train]\"):\n",
    "        imgs, labels = imgs.to(DEVICE), labels.to(DEVICE)\n",
    "        optimizer.zero_grad()\n",
    "        if scaler:\n",
    "            with torch.amp.autocast(device_type=DEVICE.type):\n",
    "                outputs = model(imgs)\n",
    "                loss = criterion(outputs, labels)\n",
    "            scaler.scale(loss).backward()\n",
    "            scaler.step(optimizer)\n",
    "            scaler.update()\n",
    "        else:\n",
    "            outputs = model(imgs)\n",
    "            loss = criterion(outputs, labels)\n",
    "            loss.backward()\n",
    "            optimizer.step()\n",
    "        running_loss += loss.item() * imgs.size(0)\n",
    "    epoch_train_loss = running_loss / len(train_loader.dataset)\n",
    "    history['train_loss'].append(epoch_train_loss)\n",
    "\n",
    "    # Validation\n",
    "    model.eval()\n",
    "    val_loss = 0.0\n",
    "    all_probs, all_targets = [], []\n",
    "    with torch.no_grad():\n",
    "        for imgs, labels in val_loader:\n",
    "            imgs, labels = imgs.to(DEVICE), labels.to(DEVICE)\n",
    "            outputs = model(imgs)\n",
    "            val_loss += criterion(outputs, labels).item() * imgs.size(0)\n",
    "            all_probs.append(torch.sigmoid(outputs).cpu().numpy())\n",
    "            all_targets.append(labels.cpu().numpy())\n",
    "    epoch_val_loss = val_loss / len(val_loader.dataset)\n",
    "    history['val_loss'].append(epoch_val_loss)\n",
    "    all_probs, all_targets = np.vstack(all_probs), np.vstack(all_targets)\n",
    "\n",
    "    # Metrics\n",
    "    try: val_auc = roc_auc_score(all_targets, all_probs, average='macro')\n",
    "    except: val_auc = float('nan')\n",
    "    y_pred_bin = (all_probs > 0.5).astype(int)\n",
    "    val_f1 = f1_score(all_targets, y_pred_bin, average='macro', zero_division=0)\n",
    "    history['val_auc'].append(float(val_auc))\n",
    "    history['val_f1'].append(float(val_f1))\n",
    "\n",
    "    scheduler.step(epoch_val_loss)\n",
    "    es(epoch_val_loss, model)\n",
    "    if es.early_stop: \n",
    "        print(\"Early stopping triggered\"); break\n",
    "\n",
    "    t1 = time.time()\n",
    "    print(f\"Epoch {epoch}: Train Loss={epoch_train_loss:.4f}, Val Loss={epoch_val_loss:.4f}, Val F1={val_f1:.4f}, Val AUC={val_auc:.4f}, Time={(t1-t0)/60:.2f} min\")\n",
    "\n",
    "save_history(history, Path(OUTPUT_DIR)/\"training_history.json\")\n",
    "plt.figure(figsize=(10,4))\n",
    "plt.plot(history['train_loss'], label='train_loss')\n",
    "plt.plot(history['val_loss'], label='val_loss')\n",
    "plt.xlabel('epoch'); plt.ylabel('loss'); plt.legend(); plt.title('Loss curves')\n",
    "plt.savefig(Path(OUTPUT_DIR)/\"loss_curves.png\", dpi=150); plt.show()"
   ]
  },
  {
   "cell_type": "code",
   "execution_count": null,
   "id": "57b07c80-223f-437f-9bbb-53f80b67ca14",
   "metadata": {},
   "outputs": [],
   "source": [
    "# ----------------------------\n",
    "# 11. Load best model & evaluate on test set\n",
    "# ----------------------------\n",
    "model.load_state_dict(torch.load(checkpoint_path, map_location=DEVICE))\n",
    "model.eval()\n",
    "all_probs, all_targets = [], []\n",
    "with torch.no_grad():\n",
    "    for imgs, labels in test_loader:\n",
    "        imgs = imgs.to(DEVICE)\n",
    "        outputs = model(imgs)\n",
    "        all_probs.append(torch.sigmoid(outputs).cpu().numpy())\n",
    "        all_targets.append(labels.numpy())\n",
    "all_probs, all_targets = np.vstack(all_probs), np.vstack(all_targets)\n",
    "\n",
    "y_pred_bin = (all_probs > 0.5).astype(int)\n",
    "report = classification_report(all_targets, y_pred_bin, target_names=mlb.classes_)\n",
    "print(report)"
   ]
  }
 ],
 "metadata": {
  "kernelspec": {
   "display_name": "Python 3 (ipykernel)",
   "language": "python",
   "name": "python3"
  },
  "language_info": {
   "codemirror_mode": {
    "name": "ipython",
    "version": 3
   },
   "file_extension": ".py",
   "mimetype": "text/x-python",
   "name": "python",
   "nbconvert_exporter": "python",
   "pygments_lexer": "ipython3",
   "version": "3.9.23"
  }
 },
 "nbformat": 4,
 "nbformat_minor": 5
}
